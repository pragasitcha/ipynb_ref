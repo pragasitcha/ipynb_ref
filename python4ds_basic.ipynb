{
 "metadata": {
  "language_info": {
   "codemirror_mode": {
    "name": "ipython",
    "version": 3
   },
   "file_extension": ".py",
   "mimetype": "text/x-python",
   "name": "python",
   "nbconvert_exporter": "python",
   "pygments_lexer": "ipython3",
   "version": "3.8.5-final"
  },
  "orig_nbformat": 2,
  "kernelspec": {
   "name": "python385jvsc74a57bd05e521b54ee286f7f66acdb98446f0ba0e68e26f6241402657ad9b3e96acceb2d",
   "display_name": "Python 3.8.5 64-bit (conda)"
  }
 },
 "nbformat": 4,
 "nbformat_minor": 2,
 "cells": [
  {
   "source": [
    "# function,variable debug\n",
    "import numpy as np\n",
    "b=[1,2,3]\n",
    "\n",
    "#: return info of b. \n",
    "#b?\n",
    "\n",
    "# b?? : return function code\n",
    "\n",
    "# run file\n",
    "#%run  [python_file.py]\n",
    "\n",
    "# load function\n",
    "#%load  [python_file.py]\n",
    "\n",
    "# paste code from clipboard.\n",
    "# %paste \n",
    "\n",
    "# promt for paste code from clipboard.\n",
    "# %cpaste \n"
   ],
   "cell_type": "code",
   "metadata": {},
   "execution_count": 17,
   "outputs": [
    {
     "output_type": "error",
     "ename": "SyntaxError",
     "evalue": "invalid syntax (<ipython-input-17-9909756921f0>, line 9)",
     "traceback": [
      "\u001b[1;36m  File \u001b[1;32m\"<ipython-input-17-9909756921f0>\"\u001b[1;36m, line \u001b[1;32m9\u001b[0m\n\u001b[1;33m    np.load?\u001b[0m\n\u001b[1;37m           ^\u001b[0m\n\u001b[1;31mSyntaxError\u001b[0m\u001b[1;31m:\u001b[0m invalid syntax\n"
     ]
    }
   ]
  },
  {
   "cell_type": "code",
   "execution_count": 19,
   "metadata": {},
   "outputs": [
    {
     "output_type": "stream",
     "name": "stdout",
     "text": [
      "42 µs ± 924 ns per loop (mean ± std. dev. of 7 runs, 10000 loops each)\n"
     ]
    }
   ],
   "source": [
    "## Ipython magic command example\n",
    " \n",
    "# 42 µs ± 924 ns per loop (mean ± std. dev. of 7 runs, 10000 loops each)\n",
    "# a = np.random.randn(100, 100)\n",
    "# %timeit np.dot(a, a)\n",
    "\n",
    "# breakpoint\n",
    "# %debug?\n",
    "\n",
    "# display magic\n",
    "# %magic\n"
   ]
  },
  {
   "cell_type": "code",
   "execution_count": null,
   "metadata": {},
   "outputs": [],
   "source": [
    "\r\n",
    "## Ipython Mathlab integrations.a\r\n"
   ]
  }
 ]
}